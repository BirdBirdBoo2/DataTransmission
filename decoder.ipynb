{
 "cells": [
  {
   "metadata": {
    "ExecuteTime": {
     "end_time": "2025-02-24T01:09:39.543688Z",
     "start_time": "2025-02-24T01:09:39.210380Z"
    }
   },
   "cell_type": "code",
   "source": [
    "%load_ext autoreload\n",
    "%autoreload 2\n",
    "%matplotlib inline\n",
    "from pathlib import Path\n",
    "from src import Encoder, Decoder\n",
    "import numpy as np\n",
    "import matplotlib.pyplot as plt\n",
    "import librosa\n",
    "import src.data_signal as signal\n"
   ],
   "id": "885e2e8610e155ad",
   "outputs": [],
   "execution_count": 1
  },
  {
   "metadata": {},
   "cell_type": "code",
   "source": [
    "encoder = Encoder(modulation='bpsk')\n",
    "\n",
    "encoder.encode(Path('test.txt'), Path('text.txt.wav'), sample_rate=16000)\n"
   ],
   "id": "2e30a023dbda9f1b",
   "outputs": [],
   "execution_count": null
  },
  {
   "metadata": {},
   "cell_type": "code",
   "source": [
    "decoder = Decoder(modulation='bpsk')\n",
    "\n",
    "decoder.decode_file(Path('text.txt.wav'))"
   ],
   "id": "c271ecf3ec60dcaf",
   "outputs": [],
   "execution_count": null
  },
  {
   "metadata": {},
   "cell_type": "code",
   "source": [
    "y, sample_rate = librosa.load(Path('test.png.wav'), sr=44100)\n",
    "\n",
    "plt.plot(y)"
   ],
   "id": "b7204d766aae7acd",
   "outputs": [],
   "execution_count": null
  },
  {
   "metadata": {
    "ExecuteTime": {
     "end_time": "2025-02-24T02:02:24.160639Z",
     "start_time": "2025-02-24T02:02:22.464906Z"
    }
   },
   "cell_type": "code",
   "source": [
    "fig, ax = plt.subplots()\n",
    "# y, sample_rate = librosa.load(Path('test_audio.webm'))\n",
    "y, sample_rate = librosa.load(Path('test_new_encode.png.wav'), sr=8192)\n",
    "print(\"Sample rate: \", sample_rate)\n",
    "S = librosa.feature.melspectrogram(y=y, sr=sample_rate, n_mels=256, fmax=8192)\n",
    "S_dB = librosa.power_to_db(S, ref=np.max)\n",
    "img = librosa.display.specshow(S_dB, x_axis='time',\n",
    "                               y_axis='mel', sr=sample_rate,\n",
    "                               fmax=8192, ax=ax)\n",
    "fig.colorbar(img, ax=ax, format='%+2.0f dB')\n",
    "ax.set(title='Mel-frequency spectrogram')"
   ],
   "id": "146b692d17d630aa",
   "outputs": [
    {
     "name": "stdout",
     "output_type": "stream",
     "text": [
      "Sample rate:  8192\n"
     ]
    },
    {
     "data": {
      "text/plain": [
       "[Text(0.5, 1.0, 'Mel-frequency spectrogram')]"
      ]
     },
     "execution_count": 80,
     "metadata": {},
     "output_type": "execute_result"
    }
   ],
   "execution_count": 80
  },
  {
   "metadata": {
    "ExecuteTime": {
     "end_time": "2025-02-24T02:27:16.168473Z",
     "start_time": "2025-02-24T02:27:15.972390Z"
    }
   },
   "cell_type": "code",
   "source": [
    "%matplotlib qt\n",
    "sample_rate = 4 * 2048\n",
    "y, _ = librosa.load(Path('test_new_encode.txt.wav'), sr=sample_rate)\n",
    "y = y / np.max(np.abs(y))\n",
    "end_noise = np.random.normal(0, 0.005, 4000)\n",
    "# y = np.concatenate([y, end_noise])\n",
    "\n",
    "y_nc, _ = librosa.load(Path('test_nc.txt.wav'), sr=sample_rate)\n",
    "y_nc = np.concatenate([y_nc, end_noise])\n",
    "\n",
    "carrier_signal_t = np.arange(0, y.shape[0])\n",
    "carrier_signal = np.sin(2 * np.pi * carrier_signal_t / 16)\n",
    "\n",
    "y_q = y * carrier_signal\n",
    "\n",
    "fft_q = np.fft.fft(y_q)\n",
    "freq = np.fft.fftfreq(len(y), 1 / 96000)\n",
    "freq_mask = np.abs(freq) > 4000\n",
    "fft_q[freq_mask] = 0\n",
    "\n",
    "plt.subplot(3, 1, 1)\n",
    "plt.plot(y)\n",
    "plt.plot(y_q)\n",
    "\n",
    "plt.subplot(3, 1, 2)\n",
    "plt.plot(np.fft.ifft(fft_q))\n",
    "\n",
    "plt.subplot(3, 1, 3)\n",
    "plt.plot(y_nc)\n",
    "\n",
    "plt.show()"
   ],
   "id": "104623e962211ce4",
   "outputs": [],
   "execution_count": 133
  },
  {
   "metadata": {
    "ExecuteTime": {
     "end_time": "2025-02-24T02:29:12.106280Z",
     "start_time": "2025-02-24T02:29:11.924616Z"
    }
   },
   "cell_type": "code",
   "source": [
    "def remove_carrier(signal: np.ndarray, sample_rate: int, f_c: int) -> np.ndarray:\n",
    "    t = np.arange(0, len(signal) / sample_rate, 1 / sample_rate)\n",
    "    carrier_signal = np.sin(2 * np.pi * f_c * t)\n",
    "    signal = signal * carrier_signal\n",
    "\n",
    "    plt.plot(signal)\n",
    "\n",
    "    fft = np.fft.fft(signal)\n",
    "    freq = np.fft.fftfreq(len(signal), 1 / sample_rate)\n",
    "    freq_mask = np.abs(freq) > 512\n",
    "    fft[freq_mask] = 0\n",
    "    print(np.vstack([fft, freq]).T[:33])\n",
    "    return np.fft.ifft(fft)\n",
    "\n",
    "plt.figure()\n",
    "plt.plot(y[:512])\n",
    "y_no_carrier = remove_carrier(y[:512], sample_rate, sample_rate / 4)\n",
    "plt.plot(y_no_carrier)"
   ],
   "id": "84fa326724f415c5",
   "outputs": [
    {
     "name": "stdout",
     "output_type": "stream",
     "text": [
      "[[-6.10165298e-05+0.00000000e+00j  0.00000000e+00+0.00000000e+00j]\n",
      " [-4.71483576e+00+1.66533454e-16j  1.60000000e+01+0.00000000e+00j]\n",
      " [-4.71454286e+00+2.22044605e-16j  3.20000000e+01+0.00000000e+00j]\n",
      " [ 4.71473312e+00+3.33066907e-16j  4.80000000e+01+0.00000000e+00j]\n",
      " [-4.71456998e+00+1.38777878e-16j  6.40000000e+01+0.00000000e+00j]\n",
      " [-4.71389992e+00-3.60822483e-16j  8.00000000e+01+0.00000000e+00j]\n",
      " [ 4.71493526e+00+1.66533454e-16j  9.60000000e+01+0.00000000e+00j]\n",
      " [-4.71504237e+00+5.55111512e-17j  1.12000000e+02+0.00000000e+00j]\n",
      " [-4.71427514e+00-1.94289029e-16j  1.28000000e+02+0.00000000e+00j]\n",
      " [ 4.71479412e+00+1.66533454e-16j  1.44000000e+02+0.00000000e+00j]\n",
      " [-4.71499575e+00-2.63677968e-16j  1.60000000e+02+0.00000000e+00j]\n",
      " [ 4.71444510e+00+9.71445147e-17j  1.76000000e+02+0.00000000e+00j]\n",
      " [ 4.71485704e+00+1.94289029e-16j  1.92000000e+02+0.00000000e+00j]\n",
      " [ 4.71448530e+00-2.77555756e-17j  2.08000000e+02+0.00000000e+00j]\n",
      " [ 4.71475026e+00+1.24900090e-16j  2.24000000e+02+0.00000000e+00j]\n",
      " [-4.71486074e+00+4.99600361e-16j  2.40000000e+02+0.00000000e+00j]\n",
      " [-4.71507565e+00-1.66533454e-16j  2.56000000e+02+0.00000000e+00j]\n",
      " [ 4.71488918e+00+2.22044605e-16j  2.72000000e+02+0.00000000e+00j]\n",
      " [ 4.71453290e+00+2.49800181e-16j  2.88000000e+02+0.00000000e+00j]\n",
      " [-4.71457825e+00-1.11022302e-16j  3.04000000e+02+0.00000000e+00j]\n",
      " [ 4.71471104e+00-2.49800181e-16j  3.20000000e+02+0.00000000e+00j]\n",
      " [-4.71472447e+00+0.00000000e+00j  3.36000000e+02+0.00000000e+00j]\n",
      " [ 4.71487959e+00+1.66533454e-16j  3.52000000e+02+0.00000000e+00j]\n",
      " [-4.71435484e+00+1.94289029e-16j  3.68000000e+02+0.00000000e+00j]\n",
      " [-4.71492558e+00-2.63677968e-16j  3.84000000e+02+0.00000000e+00j]\n",
      " [ 4.71467756e+00+4.16333634e-17j  4.00000000e+02+0.00000000e+00j]\n",
      " [-4.71473650e+00+4.02455846e-16j  4.16000000e+02+0.00000000e+00j]\n",
      " [-4.71487755e+00+2.63677968e-16j  4.32000000e+02+0.00000000e+00j]\n",
      " [ 4.71447638e+00+2.22044605e-16j  4.48000000e+02+0.00000000e+00j]\n",
      " [ 4.71455084e+00+1.38777878e-16j  4.64000000e+02+0.00000000e+00j]\n",
      " [ 4.71446589e+00+2.77555756e-17j  4.80000000e+02+0.00000000e+00j]\n",
      " [-4.71469439e+00-3.74700271e-16j  4.96000000e+02+0.00000000e+00j]\n",
      " [-4.71482443e+00+0.00000000e+00j  5.12000000e+02+0.00000000e+00j]]\n"
     ]
    },
    {
     "data": {
      "text/plain": [
       "[<matplotlib.lines.Line2D at 0x1fa2bb6af90>]"
      ]
     },
     "execution_count": 136,
     "metadata": {},
     "output_type": "execute_result"
    }
   ],
   "execution_count": 136
  },
  {
   "metadata": {
    "ExecuteTime": {
     "end_time": "2025-02-24T01:27:06.862649Z",
     "start_time": "2025-02-24T01:27:06.646482Z"
    }
   },
   "cell_type": "code",
   "outputs": [],
   "execution_count": 41,
   "source": [
    "averaging_window_len = int(sample_rate * 0.005)\n",
    "\n",
    "ranges, y_loudness = signal.extract_loud_signal_ranges(y, 0.006, averaging_window_len)\n",
    "\n",
    "plt.figure()\n",
    "plt.plot(y)\n",
    "plt.plot(y_loudness)\n",
    "for _r in ranges:\n",
    "    if not _r.value:\n",
    "        continue\n",
    "\n",
    "    plt.axvline(_r.start, color='r', linestyle='--')\n",
    "    plt.axvline(_r.end, color='r', linestyle='--')\n",
    "plt.show()"
   ],
   "id": "ba9f9dc24321316c"
  },
  {
   "metadata": {
    "ExecuteTime": {
     "end_time": "2025-02-24T01:38:29.505811Z",
     "start_time": "2025-02-24T01:34:04.876229Z"
    }
   },
   "cell_type": "code",
   "outputs": [
    {
     "name": "stdout",
     "output_type": "stream",
     "text": [
      "0 659 True\n",
      "164\n"
     ]
    },
    {
     "ename": "KeyboardInterrupt",
     "evalue": "",
     "output_type": "error",
     "traceback": [
      "\u001B[1;31m---------------------------------------------------------------------------\u001B[0m",
      "\u001B[1;31mKeyboardInterrupt\u001B[0m                         Traceback (most recent call last)",
      "Cell \u001B[1;32mIn[49], line 39\u001B[0m\n\u001B[0;32m     37\u001B[0m plt\u001B[38;5;241m.\u001B[39mfigure()\n\u001B[0;32m     38\u001B[0m plt\u001B[38;5;241m.\u001B[39mplot(raw_signal)\n\u001B[1;32m---> 39\u001B[0m signal_no_carrier \u001B[38;5;241m=\u001B[39m \u001B[43mremove_carrier\u001B[49m\u001B[43m(\u001B[49m\u001B[43mraw_signal\u001B[49m\u001B[43m,\u001B[49m\u001B[43m \u001B[49m\u001B[43msample_rate\u001B[49m\u001B[43m,\u001B[49m\u001B[43m \u001B[49m\u001B[43msample_rate\u001B[49m\u001B[43m \u001B[49m\u001B[38;5;241;43m/\u001B[39;49m\u001B[43m \u001B[49m\u001B[38;5;241;43m4\u001B[39;49m\u001B[43m)\u001B[49m\n\u001B[0;32m     41\u001B[0m \u001B[38;5;66;03m# axs[i].set_title(f\"OFDM Frame {i} ({r.start} - {r.end})\")\u001B[39;00m\n\u001B[0;32m     42\u001B[0m plt\u001B[38;5;241m.\u001B[39mplot(signal_no_carrier)\n",
      "Cell \u001B[1;32mIn[49], line 18\u001B[0m, in \u001B[0;36mremove_carrier\u001B[1;34m(signal, sample_rate, f_c)\u001B[0m\n\u001B[0;32m     15\u001B[0m carrier_signal \u001B[38;5;241m=\u001B[39m np\u001B[38;5;241m.\u001B[39msin(\u001B[38;5;241m2\u001B[39m \u001B[38;5;241m*\u001B[39m np\u001B[38;5;241m.\u001B[39mpi \u001B[38;5;241m*\u001B[39m f_c \u001B[38;5;241m*\u001B[39m t)\n\u001B[0;32m     16\u001B[0m signal \u001B[38;5;241m=\u001B[39m signal \u001B[38;5;241m*\u001B[39m carrier_signal\n\u001B[1;32m---> 18\u001B[0m fft \u001B[38;5;241m=\u001B[39m \u001B[43mnp\u001B[49m\u001B[38;5;241m.\u001B[39mfft\u001B[38;5;241m.\u001B[39mfft(signal)\n\u001B[0;32m     19\u001B[0m freq \u001B[38;5;241m=\u001B[39m np\u001B[38;5;241m.\u001B[39mfft\u001B[38;5;241m.\u001B[39mfftfreq(\u001B[38;5;28mlen\u001B[39m(signal), \u001B[38;5;241m1\u001B[39m \u001B[38;5;241m/\u001B[39m sample_rate)\n\u001B[0;32m     20\u001B[0m freq_mask \u001B[38;5;241m=\u001B[39m np\u001B[38;5;241m.\u001B[39mabs(freq) \u001B[38;5;241m>\u001B[39m \u001B[38;5;241m260\u001B[39m\n",
      "File \u001B[1;32m_pydevd_bundle\\\\pydevd_cython_win32_311_64.pyx:1187\u001B[0m, in \u001B[0;36m_pydevd_bundle.pydevd_cython_win32_311_64.SafeCallWrapper.__call__\u001B[1;34m()\u001B[0m\n",
      "File \u001B[1;32m_pydevd_bundle\\\\pydevd_cython_win32_311_64.pyx:627\u001B[0m, in \u001B[0;36m_pydevd_bundle.pydevd_cython_win32_311_64.PyDBFrame.trace_dispatch\u001B[1;34m()\u001B[0m\n",
      "File \u001B[1;32m_pydevd_bundle\\\\pydevd_cython_win32_311_64.pyx:937\u001B[0m, in \u001B[0;36m_pydevd_bundle.pydevd_cython_win32_311_64.PyDBFrame.trace_dispatch\u001B[1;34m()\u001B[0m\n",
      "File \u001B[1;32m_pydevd_bundle\\\\pydevd_cython_win32_311_64.pyx:928\u001B[0m, in \u001B[0;36m_pydevd_bundle.pydevd_cython_win32_311_64.PyDBFrame.trace_dispatch\u001B[1;34m()\u001B[0m\n",
      "File \u001B[1;32m_pydevd_bundle\\\\pydevd_cython_win32_311_64.pyx:585\u001B[0m, in \u001B[0;36m_pydevd_bundle.pydevd_cython_win32_311_64.PyDBFrame.do_wait_suspend\u001B[1;34m()\u001B[0m\n",
      "File \u001B[1;32m~\\AppData\\Local\\Programs\\PyCharm Professional\\plugins\\python-ce\\helpers\\pydev\\pydevd.py:1220\u001B[0m, in \u001B[0;36mPyDB.do_wait_suspend\u001B[1;34m(self, thread, frame, event, arg, send_suspend_message, is_unhandled_exception)\u001B[0m\n\u001B[0;32m   1217\u001B[0m         from_this_thread\u001B[38;5;241m.\u001B[39mappend(frame_id)\n\u001B[0;32m   1219\u001B[0m \u001B[38;5;28;01mwith\u001B[39;00m \u001B[38;5;28mself\u001B[39m\u001B[38;5;241m.\u001B[39m_threads_suspended_single_notification\u001B[38;5;241m.\u001B[39mnotify_thread_suspended(thread_id, stop_reason):\n\u001B[1;32m-> 1220\u001B[0m     \u001B[38;5;28;43mself\u001B[39;49m\u001B[38;5;241;43m.\u001B[39;49m\u001B[43m_do_wait_suspend\u001B[49m\u001B[43m(\u001B[49m\u001B[43mthread\u001B[49m\u001B[43m,\u001B[49m\u001B[43m \u001B[49m\u001B[43mframe\u001B[49m\u001B[43m,\u001B[49m\u001B[43m \u001B[49m\u001B[43mevent\u001B[49m\u001B[43m,\u001B[49m\u001B[43m \u001B[49m\u001B[43marg\u001B[49m\u001B[43m,\u001B[49m\u001B[43m \u001B[49m\u001B[43msuspend_type\u001B[49m\u001B[43m,\u001B[49m\u001B[43m \u001B[49m\u001B[43mfrom_this_thread\u001B[49m\u001B[43m)\u001B[49m\n",
      "File \u001B[1;32m~\\AppData\\Local\\Programs\\PyCharm Professional\\plugins\\python-ce\\helpers\\pydev\\pydevd.py:1235\u001B[0m, in \u001B[0;36mPyDB._do_wait_suspend\u001B[1;34m(self, thread, frame, event, arg, suspend_type, from_this_thread)\u001B[0m\n\u001B[0;32m   1232\u001B[0m             \u001B[38;5;28mself\u001B[39m\u001B[38;5;241m.\u001B[39m_call_mpl_hook()\n\u001B[0;32m   1234\u001B[0m         \u001B[38;5;28mself\u001B[39m\u001B[38;5;241m.\u001B[39mprocess_internal_commands()\n\u001B[1;32m-> 1235\u001B[0m         \u001B[43mtime\u001B[49m\u001B[38;5;241;43m.\u001B[39;49m\u001B[43msleep\u001B[49m\u001B[43m(\u001B[49m\u001B[38;5;241;43m0.01\u001B[39;49m\u001B[43m)\u001B[49m\n\u001B[0;32m   1237\u001B[0m \u001B[38;5;28mself\u001B[39m\u001B[38;5;241m.\u001B[39mcancel_async_evaluation(get_current_thread_id(thread), \u001B[38;5;28mstr\u001B[39m(\u001B[38;5;28mid\u001B[39m(frame)))\n\u001B[0;32m   1239\u001B[0m \u001B[38;5;66;03m# process any stepping instructions\u001B[39;00m\n",
      "\u001B[1;31mKeyboardInterrupt\u001B[0m: "
     ]
    }
   ],
   "execution_count": 49,
   "source": [
    "averaging_window_len = int(sample_rate * 0.005)\n",
    "\n",
    "ranges, y_loudness = signal.extract_loud_signal_ranges(y, 0.006, averaging_window_len)\n",
    "\n",
    "valid_ranges = [r for r in ranges if r.value]\n",
    "\n",
    "n_subcarriers = 64\n",
    "cyclic_prefix_length = 16\n",
    "\n",
    "# fig, axs = plt.subplots(nrows=len(valid_ranges), figsize=(15, 5))\n",
    "plt.figure(figsize=(15, 5))\n",
    "\n",
    "def remove_carrier(signal: np.ndarray, sample_rate: int, f_c: int) -> np.ndarray:\n",
    "    t = np.arange(0, len(signal) / sample_rate, 1 / sample_rate)\n",
    "    carrier_signal = np.sin(2 * np.pi * f_c * t)\n",
    "    signal = signal * carrier_signal\n",
    "\n",
    "    fft = np.fft.fft(signal)\n",
    "    freq = np.fft.fftfreq(len(signal), 1 / sample_rate)\n",
    "    freq_mask = np.abs(freq) > 260\n",
    "    fft[freq_mask] = 0\n",
    "    return np.fft.ifft(fft)\n",
    "\n",
    "\n",
    "for i, r in enumerate(valid_ranges):\n",
    "    print(r.start, r.end, r.value)\n",
    "\n",
    "    if not r.value:\n",
    "        continue\n",
    "\n",
    "    prefix_to_subcarrier_ratio = cyclic_prefix_length / n_subcarriers\n",
    "    prefix_len = int(prefix_to_subcarrier_ratio * r.length)\n",
    "\n",
    "    print(prefix_len)\n",
    "\n",
    "    raw_signal = y[r.start:r.end]\n",
    "    plt.figure()\n",
    "    plt.plot(raw_signal)\n",
    "    signal_no_carrier = remove_carrier(raw_signal, sample_rate, sample_rate / 4)\n",
    "\n",
    "    # axs[i].set_title(f\"OFDM Frame {i} ({r.start} - {r.end})\")\n",
    "    plt.plot(signal_no_carrier)\n",
    "\n",
    "    # cp = y[r.start:][:prefix_len]\n",
    "    # ofdm_frame = y[r.start + prefix_len:r.end]\n",
    "    #\n",
    "    # ofdm_match_scores = np.convolve(ofdm_frame, cp, mode='valid')\n",
    "    #\n",
    "    # axs[i].set_title(f\"OFDM Frame {i} ({r.start} - {r.end})\")\n",
    "    # axs[i].plot(ofdm_match_scores)\n",
    "    # axs[i].plot()\n",
    "\n",
    "plt.tight_layout()\n",
    "plt.show()\n"
   ],
   "id": "5985e1f4c6c79003"
  },
  {
   "metadata": {
    "ExecuteTime": {
     "end_time": "2025-02-23T23:32:43.676002Z",
     "start_time": "2025-02-23T23:32:43.425367Z"
    }
   },
   "cell_type": "code",
   "source": [
    "# synthesise signal of length 1 second and rescale as needed!\n",
    "%matplotlib inline\n",
    "n_carriers = 4\n",
    "# supersamling  = 16\n",
    "target_ofdm_f = 1000\n",
    "# sig_length = 4 * 2 * supersamling\n",
    "sig_length = 2 * target_ofdm_f\n",
    "coeffs = np.zeros(sig_length, dtype=np.complex128)\n",
    "coeffs[1:n_carriers + 1] = [1, 1j, -1, -1j]\n",
    "coeffs[-n_carriers:] = np.conj(np.flip(coeffs[1:n_carriers + 1]))\n",
    "ofdm_frame = np.fft.ifft(coeffs)\n",
    "f_ofdm = len(ofdm_frame) / 2 / supersamling\n",
    "\n",
    "curr_sr = sig_length / 1\n",
    "\n",
    "\n",
    "target_sr = 96000\n",
    "curr_duration_dicr = curr_sr / target_sr\n",
    "print('Current sample rate: ', curr_sr)\n",
    "print('Current duration: ', curr_duration_dicr)\n",
    "\n",
    "\n",
    "\n",
    "\n",
    "\n",
    "plt.plot(ofdm_frame)\n",
    "f_ofdm"
   ],
   "id": "e6bec6f598f85b29",
   "outputs": [
    {
     "name": "stdout",
     "output_type": "stream",
     "text": [
      "Current sample rate:  2000.0\n",
      "Current duration:  0.020833333333333332\n"
     ]
    },
    {
     "data": {
      "text/plain": [
       "62.5"
      ]
     },
     "execution_count": 56,
     "metadata": {},
     "output_type": "execute_result"
    },
    {
     "data": {
      "text/plain": [
       "<Figure size 640x480 with 1 Axes>"
      ],
      "image/png": "[encoded data removed]"
     },
     "metadata": {},
     "output_type": "display_data"
    }
   ],
   "execution_count": 56
  },
  {
   "metadata": {
    "ExecuteTime": {
     "end_time": "2025-02-23T23:38:26.503308Z",
     "start_time": "2025-02-23T23:38:26.374352Z"
    }
   },
   "cell_type": "code",
   "source": [
    "t = np.linspace(0, 1, 512)\n",
    "\n",
    "sin_1t = np.sin(2 * np.pi * 1 * t)\n",
    "sin_20t = np.sin(2 * np.pi * 20 * t)\n",
    "\n",
    "signal = sin_1t * sin_20t\n",
    "\n",
    "fft = np.real(np.fft.fft(signal))\n",
    "freq = np.fft.fftfreq(len(signal), d=1/512)\n",
    "\n",
    "fft_demod = np.real(np.fft.fft(signal * np.sin(2 * np.pi * 20 * t)))"
   ],
   "id": "34286e3013d046f9",
   "outputs": [],
   "execution_count": 66
  },
  {
   "metadata": {
    "ExecuteTime": {
     "end_time": "2025-02-24T00:16:35.181085Z",
     "start_time": "2025-02-24T00:16:34.995852Z"
    }
   },
   "cell_type": "code",
   "source": [
    "%matplotlib qt\n",
    "# sr = 96000\n",
    "sr = 10240\n",
    "# sr = 2560\n",
    "ofdm_freq = 1024\n",
    "coeffs = np.zeros(sr, dtype=np.complex128)\n",
    "num_carriers = 8\n",
    "for i in range(num_carriers):\n",
    "    coeffs[(ofdm_freq // num_carriers * (i + 1))] = 1\n",
    "\n",
    "min_symbol_length_s = 1 / (ofdm_freq / num_carriers)\n",
    "print('Symbol length: ', min_symbol_length_s)\n",
    "\n",
    "coeffs[-sr // 2:] = np.conj(np.flip(coeffs[1:sr // 2 + 1]))\n",
    "signal = np.fft.ifft(coeffs)\n",
    "plt.plot(np.real(signal))"
   ],
   "id": "ff79e5abdc243ae3",
   "outputs": [
    {
     "name": "stdout",
     "output_type": "stream",
     "text": [
      "Symbol length:  0.0078125\n"
     ]
    },
    {
     "data": {
      "text/plain": [
       "[<matplotlib.lines.Line2D at 0x1cdc0350b90>]"
      ]
     },
     "execution_count": 96,
     "metadata": {},
     "output_type": "execute_result"
    }
   ],
   "execution_count": 96
  },
  {
   "metadata": {
    "ExecuteTime": {
     "end_time": "2025-02-24T00:16:56.748907Z",
     "start_time": "2025-02-24T00:16:56.619274Z"
    }
   },
   "cell_type": "code",
   "source": [
    "min_symbol_length_s * sr\n",
    "\n",
    "fft = np.fft.fft(signal[:80])\n",
    "fft_r = np.real(fft)\n",
    "fft_freq = np.fft.fftfreq(len(fft), d=1/sr)"
   ],
   "id": "88ef417bf5096e4",
   "outputs": [],
   "execution_count": 97
  }
 ],
 "metadata": {
  "kernelspec": {
   "display_name": "Python 3",
   "language": "python",
   "name": "python3"
  },
  "language_info": {
   "codemirror_mode": {
    "name": "ipython",
    "version": 2
   },
   "file_extension": ".py",
   "mimetype": "text/x-python",
   "name": "python",
   "nbconvert_exporter": "python",
   "pygments_lexer": "ipython2",
   "version": "2.7.6"
  }
 },
 "nbformat": 4,
 "nbformat_minor": 5
}
