{
 "cells": [
  {
   "metadata": {},
   "cell_type": "code",
   "outputs": [],
   "execution_count": null,
   "source": [
    "%load_ext autoreload\n",
    "%autoreload 2\n",
    "%matplotlib inline\n",
    "from pathlib import Path\n",
    "from src import Encoder, Decoder\n",
    "import numpy as np\n",
    "import matplotlib.pyplot as plt\n",
    "import librosa\n",
    "import src.data_signal as signal\n"
   ],
   "id": "5c6cb9b1a979b176"
  },
  {
   "metadata": {},
   "cell_type": "code",
   "outputs": [],
   "execution_count": null,
   "source": [
    "encoder = Encoder(modulation='bpsk')\n",
    "\n",
    "encoder.encode(Path('test.txt'), Path('text.txt.wav'), sample_rate=16000)\n"
   ],
   "id": "100ed4f7aad6e222"
  },
  {
   "metadata": {},
   "cell_type": "code",
   "outputs": [],
   "execution_count": null,
   "source": [
    "decoder = Decoder(modulation='bpsk')\n",
    "\n",
    "decoder.decode_file(Path('text.txt.wav'))"
   ],
   "id": "87f365dcada08d4c"
  },
  {
   "metadata": {},
   "cell_type": "code",
   "outputs": [],
   "execution_count": null,
   "source": [
    "y, sample_rate = librosa.load(Path('test.png.wav'), sr=44100)\n",
    "\n",
    "plt.plot(y)"
   ],
   "id": "aead3115e1d3f177"
  },
  {
   "metadata": {},
   "cell_type": "code",
   "outputs": [],
   "execution_count": null,
   "source": [
    "fig, ax = plt.subplots()\n",
    "# y, sample_rate = librosa.load(Path('test_audio.webm'))\n",
    "y, sample_rate = librosa.load(Path('test_new_encode.png.wav'), sr=8192)\n",
    "print(\"Sample rate: \", sample_rate)\n",
    "S = librosa.feature.melspectrogram(y=y, sr=sample_rate, n_mels=256, fmax=8192)\n",
    "S_dB = librosa.power_to_db(S, ref=np.max)\n",
    "img = librosa.display.specshow(S_dB, x_axis='time',\n",
    "                               y_axis='mel', sr=sample_rate,\n",
    "                               fmax=8192, ax=ax)\n",
    "fig.colorbar(img, ax=ax, format='%+2.0f dB')\n",
    "ax.set(title='Mel-frequency spectrogram')"
   ],
   "id": "c75efc2bea677813"
  },
  {
   "metadata": {},
   "cell_type": "code",
   "outputs": [],
   "execution_count": null,
   "source": [
    "%matplotlib qt\n",
    "sample_rate = 4 * 2048\n",
    "y, _ = librosa.load(Path('test_new_encode.txt.wav'), sr=sample_rate)\n",
    "y = y / np.max(np.abs(y))\n",
    "end_noise = np.random.normal(0, 0.005, 4000)\n",
    "# y = np.concatenate([y, end_noise])\n",
    "\n",
    "y_nc, _ = librosa.load(Path('test_nc.txt.wav'), sr=sample_rate)\n",
    "y_nc = np.concatenate([y_nc, end_noise])\n",
    "\n",
    "carrier_signal_t = np.arange(0, y.shape[0])\n",
    "carrier_signal = np.sin(2 * np.pi * carrier_signal_t / 16)\n",
    "\n",
    "y_q = y * carrier_signal\n",
    "\n",
    "fft_q = np.fft.fft(y_q)\n",
    "freq = np.fft.fftfreq(len(y), 1 / 96000)\n",
    "freq_mask = np.abs(freq) > 4000\n",
    "fft_q[freq_mask] = 0\n",
    "\n",
    "plt.subplot(3, 1, 1)\n",
    "plt.plot(y)\n",
    "plt.plot(y_q)\n",
    "\n",
    "plt.subplot(3, 1, 2)\n",
    "plt.plot(np.fft.ifft(fft_q))\n",
    "\n",
    "plt.subplot(3, 1, 3)\n",
    "plt.plot(y_nc)\n",
    "\n",
    "plt.show()"
   ],
   "id": "c15e65c4412b2afe"
  },
  {
   "metadata": {},
   "cell_type": "code",
   "outputs": [],
   "execution_count": null,
   "source": [
    "def remove_carrier(signal: np.ndarray, sample_rate: int, f_c: int, ofdm_freq: int) -> np.ndarray:\n",
    "    t = np.arange(0, len(signal) / sample_rate, 1 / sample_rate)\n",
    "    carrier_signal = np.sin(2 * np.pi * f_c * t)\n",
    "    signal = signal * carrier_signal\n",
    "\n",
    "    plt.plot(signal)\n",
    "\n",
    "    fft = np.fft.fft(signal)\n",
    "    freq = np.fft.fftfreq(len(signal), 1 / sample_rate)\n",
    "    freq_mask = np.abs(freq) > ofdm_freq\n",
    "    fft[freq_mask] = 0\n",
    "    print(np.vstack([fft, freq]).T[:33])\n",
    "    return np.fft.ifft(fft)\n",
    "\n",
    "plt.figure()\n",
    "y_part = y[:]\n",
    "plt.plot(y_part)\n",
    "y_no_carrier = remove_carrier(y_part, sample_rate, sample_rate / 4, 512)\n",
    "plt.plot(y_no_carrier)"
   ],
   "id": "4335bff733abe023"
  },
  {
   "metadata": {},
   "cell_type": "code",
   "outputs": [],
   "execution_count": null,
   "source": [
    "averaging_window_len = int(sample_rate * 0.005)\n",
    "\n",
    "ranges, y_loudness = signal.extract_loud_signal_ranges(y, 0.006, averaging_window_len)\n",
    "\n",
    "plt.figure()\n",
    "plt.plot(y)\n",
    "plt.plot(y_loudness)\n",
    "for _r in ranges:\n",
    "    if not _r.value:\n",
    "        continue\n",
    "\n",
    "    plt.axvline(_r.start, color='r', linestyle='--')\n",
    "    plt.axvline(_r.end, color='r', linestyle='--')\n",
    "plt.show()"
   ],
   "id": "84eafde3b19ae9eb"
  },
  {
   "metadata": {},
   "cell_type": "code",
   "outputs": [],
   "execution_count": null,
   "source": [
    "averaging_window_len = int(sample_rate * 0.005)\n",
    "\n",
    "ranges, y_loudness = signal.extract_loud_signal_ranges(y, 0.006, averaging_window_len)\n",
    "\n",
    "valid_ranges = [r for r in ranges if r.value]\n",
    "\n",
    "n_subcarriers = 64\n",
    "cyclic_prefix_length = 16\n",
    "\n",
    "# fig, axs = plt.subplots(nrows=len(valid_ranges), figsize=(15, 5))\n",
    "plt.figure(figsize=(15, 5))\n",
    "\n",
    "def remove_carrier(signal: np.ndarray, sample_rate: int, f_c: int) -> np.ndarray:\n",
    "    t = np.arange(0, len(signal) / sample_rate, 1 / sample_rate)\n",
    "    carrier_signal = np.sin(2 * np.pi * f_c * t)\n",
    "    signal = signal * carrier_signal\n",
    "\n",
    "    fft = np.fft.fft(signal)\n",
    "    freq = np.fft.fftfreq(len(signal), 1 / sample_rate)\n",
    "    freq_mask = np.abs(freq) > 260\n",
    "    fft[freq_mask] = 0\n",
    "    return np.fft.ifft(fft)\n",
    "\n",
    "\n",
    "for i, r in enumerate(valid_ranges):\n",
    "    print(r.start, r.end, r.value)\n",
    "\n",
    "    if not r.value:\n",
    "        continue\n",
    "\n",
    "    prefix_to_subcarrier_ratio = cyclic_prefix_length / n_subcarriers\n",
    "    prefix_len = int(prefix_to_subcarrier_ratio * r.length)\n",
    "\n",
    "    print(prefix_len)\n",
    "\n",
    "    raw_signal = y[r.start:r.end]\n",
    "    plt.figure()\n",
    "    plt.plot(raw_signal)\n",
    "    signal_no_carrier = remove_carrier(raw_signal, sample_rate, sample_rate / 4)\n",
    "\n",
    "    # axs[i].set_title(f\"OFDM Frame {i} ({r.start} - {r.end})\")\n",
    "    plt.plot(signal_no_carrier)\n",
    "\n",
    "    # cp = y[r.start:][:prefix_len]\n",
    "    # ofdm_frame = y[r.start + prefix_len:r.end]\n",
    "    #\n",
    "    # ofdm_match_scores = np.convolve(ofdm_frame, cp, mode='valid')\n",
    "    #\n",
    "    # axs[i].set_title(f\"OFDM Frame {i} ({r.start} - {r.end})\")\n",
    "    # axs[i].plot(ofdm_match_scores)\n",
    "    # axs[i].plot()\n",
    "\n",
    "plt.tight_layout()\n",
    "plt.show()\n"
   ],
   "id": "67456a682b76e8dc"
  },
  {
   "metadata": {},
   "cell_type": "code",
   "outputs": [],
   "execution_count": null,
   "source": [
    "# synthesise signal of length 1 second and rescale as needed!\n",
    "%matplotlib inline\n",
    "n_carriers = 4\n",
    "# supersamling  = 16\n",
    "target_ofdm_f = 1000\n",
    "# sig_length = 4 * 2 * supersamling\n",
    "sig_length = 2 * target_ofdm_f\n",
    "coeffs = np.zeros(sig_length, dtype=np.complex128)\n",
    "coeffs[1:n_carriers + 1] = [1, 1j, -1, -1j]\n",
    "coeffs[-n_carriers:] = np.conj(np.flip(coeffs[1:n_carriers + 1]))\n",
    "ofdm_frame = np.fft.ifft(coeffs)\n",
    "f_ofdm = len(ofdm_frame) / 2 / supersamling\n",
    "\n",
    "curr_sr = sig_length / 1\n",
    "\n",
    "\n",
    "target_sr = 96000\n",
    "curr_duration_dicr = curr_sr / target_sr\n",
    "print('Current sample rate: ', curr_sr)\n",
    "print('Current duration: ', curr_duration_dicr)\n",
    "\n",
    "\n",
    "\n",
    "\n",
    "\n",
    "plt.plot(ofdm_frame)\n",
    "f_ofdm"
   ],
   "id": "d9d3cbb8e3f24d28"
  },
  {
   "metadata": {},
   "cell_type": "code",
   "outputs": [],
   "execution_count": null,
   "source": [
    "t = np.linspace(0, 1, 512)\n",
    "\n",
    "sin_1t = np.sin(2 * np.pi * 1 * t)\n",
    "sin_20t = np.sin(2 * np.pi * 20 * t)\n",
    "\n",
    "signal = sin_1t * sin_20t\n",
    "\n",
    "fft = np.real(np.fft.fft(signal))\n",
    "freq = np.fft.fftfreq(len(signal), d=1/512)\n",
    "\n",
    "fft_demod = np.real(np.fft.fft(signal * np.sin(2 * np.pi * 20 * t)))"
   ],
   "id": "513be3fb0873d726"
  },
  {
   "metadata": {},
   "cell_type": "code",
   "outputs": [],
   "execution_count": null,
   "source": [
    "%matplotlib qt\n",
    "# sr = 96000\n",
    "sr = 10240\n",
    "# sr = 2560\n",
    "ofdm_freq = 1024\n",
    "coeffs = np.zeros(sr, dtype=np.complex128)\n",
    "num_carriers = 8\n",
    "for i in range(num_carriers):\n",
    "    coeffs[(ofdm_freq // num_carriers * (i + 1))] = 1\n",
    "\n",
    "min_symbol_length_s = 1 / (ofdm_freq / num_carriers)\n",
    "print('Symbol length: ', min_symbol_length_s)\n",
    "\n",
    "coeffs[-sr // 2:] = np.conj(np.flip(coeffs[1:sr // 2 + 1]))\n",
    "signal = np.fft.ifft(coeffs)\n",
    "plt.plot(np.real(signal))"
   ],
   "id": "f2dd06bc64003da2"
  },
  {
   "metadata": {},
   "cell_type": "code",
   "outputs": [],
   "execution_count": null,
   "source": [
    "min_symbol_length_s * sr\n",
    "\n",
    "fft = np.fft.fft(signal[:80])\n",
    "fft_r = np.real(fft)\n",
    "fft_freq = np.fft.fftfreq(len(fft), d=1/sr)"
   ],
   "id": "673425d484149a03"
  },
  {
   "metadata": {},
   "cell_type": "code",
   "outputs": [],
   "execution_count": null,
   "source": [
    "encoder = Encoder(modulation='bpsk', ofdm_frequency_hz=512, carrier_frequency_hz=2048, grace_period_s=0)\n",
    "decoder = Decoder(modulation='bpsk', ofdm_frequency_hz=512, carrier_frequency_hz=2048, grace_period_s=0)\n",
    "\n",
    "source = bytearray(b\"Hello, world!\")\n",
    "signal = encoder.encode(source)\n",
    "decoded = bytearray(decoder.decode(signal))\n",
    "\n",
    "print(f\"Source: {source}, len: {len(source)}\")\n",
    "print(f\"Decoded: {decoded.decode()}, len: {len(decoded)}\")"
   ],
   "id": "26465ba9151a3f1d"
  },
  {
   "metadata": {
    "ExecuteTime": {
     "end_time": "2025-02-24T18:22:28.174918Z",
     "start_time": "2025-02-24T18:22:20.445550Z"
    }
   },
   "cell_type": "code",
   "source": [
    "# filename = \"fresh_af.webm\"\n",
    "filename = \"tests/test.png\"\n",
    "\n",
    "image = open(filename, 'rb').read()\n",
    "# image = open('requirements.txt', 'rb').read()\n",
    "\n",
    "params = {\n",
    "    'modulation': 'qpsk',\n",
    "    'ofdm_frequency_hz': 6144,\n",
    "    'carrier_frequency_hz': 12000,\n",
    "    'grace_period_s': 0,\n",
    "    'n_subcarriers': 128\n",
    "}\n",
    "\n",
    "Encoder(**params).encode_to_file(image, Path(f\"{filename}.wav\"))\n",
    "decoded = Decoder(**params).decode_file(Path(f\"{filename}.wav\"))\n",
    "with open(f\"{filename}.wav.{Path(filename).suffix}\", 'wb') as f:\n",
    "    f.write(bytearray(decoded))\n"
   ],
   "id": "1ff46b9b9e09a1f7",
   "outputs": [
    {
     "name": "stdout",
     "output_type": "stream",
     "text": [
      "2025-02-24 20:22:20 [info     ] Read data to encode            data_len_bytes=105756\n",
      "2025-02-24 20:22:20 [info     ] Converted data to bits         data_len_bits=846048\n",
      "2025-02-24 20:22:20 [info     ] Encoded 32 first bits          message_bits=array([0, 0, 0, 1, 1, 1, 1, 1, 1, 0, 0, 0, 1, 0, 0, 1, 0, 1, 0, 1, 0, 0,\n",
      "       0, 0, 0, 1, 0, 0, 1, 1, 1, 0], dtype=uint8)\n",
      "2025-02-24 20:22:21 [info     ] Modulated bits to symbols      data_len_symbols=436736\n",
      "2025-02-24 20:22:21 [info     ] Min symbol duration            min_symbol_duration_s=0.020833333333333332\n",
      "2025-02-24 20:22:24 [info     ] Carrier signal created         carrier_frequency=12000\n",
      "2025-02-24 20:22:24 [info     ] OFDM frames computed           ofdm_frame_len=1000\n",
      "2025-02-24 20:22:24 [info     ] Modulated symbols to signal    signal_pts=3412000\n",
      "Encoded data into tests\\test.png.wav\n",
      "2025-02-24 20:22:24 [info     ] Estimate symbols               num_pts_per_symbol=1000\n",
      "2025-02-24 20:22:24 [info     ] Parse OFDM symbols             num_symbols=3412\n",
      "2025-02-24 20:22:28 [info     ] Recovered 32 first bits        message_bits=array([0, 0, 0, 1, 1, 1, 1, 1, 1, 0, 0, 0, 1, 0, 0, 1, 0, 1, 0, 1, 0, 0,\n",
      "       0, 0, 0, 1, 0, 0, 1, 1, 1, 0], dtype=uint8)\n"
     ]
    }
   ],
   "execution_count": 49
  },
  {
   "metadata": {
    "ExecuteTime": {
     "end_time": "2025-02-24T17:11:21.208272Z",
     "start_time": "2025-02-24T17:11:20.117339Z"
    }
   },
   "cell_type": "code",
   "source": [
    "decoded = Decoder(**params).decode_file(Path(\"test.png.wav\"))\n",
    "with open('test.png-echo.wav.png', 'wb') as f:\n",
    "    f.write(bytearray(decoded))"
   ],
   "id": "b68739d34beef361",
   "outputs": [
    {
     "name": "stdout",
     "output_type": "stream",
     "text": [
      "2025-02-24 19:11:20 [info     ] Estimate symbols               num_pts_per_symbol=1000\n",
      "2025-02-24 19:11:20 [info     ] Parse OFDM symbols             num_symbols=14588\n",
      "2025-02-24 19:11:21 [info     ] Recovered 32 first bits        message_bits=array([0, 1, 0, 1, 1, 1, 1, 0, 0, 0, 1, 0, 0, 1, 0, 1, 0, 1, 0, 0, 0, 0,\n",
      "       0, 1, 0, 0, 1, 1, 1, 0, 0, 1], dtype=uint8)\n"
     ]
    }
   ],
   "execution_count": 41
  },
  {
   "metadata": {
    "ExecuteTime": {
     "end_time": "2025-02-24T17:12:22.555836Z",
     "start_time": "2025-02-24T17:12:20.747519Z"
    }
   },
   "cell_type": "code",
   "source": [
    "decoded = Decoder(**params).decode_file(Path(\"test.png-echo.wav\"))\n",
    "with open('test.png-echo.wav.png', 'wb') as f:\n",
    "    f.write(bytearray(decoded))"
   ],
   "id": "53f6198b530ab4a9",
   "outputs": [
    {
     "name": "stdout",
     "output_type": "stream",
     "text": [
      "2025-02-24 19:12:21 [info     ] Estimate symbols               num_pts_per_symbol=1000\n",
      "2025-02-24 19:12:22 [info     ] Parse OFDM symbols             num_symbols=14588\n",
      "2025-02-24 19:12:22 [info     ] Recovered 32 first bits        message_bits=array([0, 1, 0, 1, 1, 1, 1, 0, 0, 0, 1, 0, 0, 1, 0, 1, 0, 1, 0, 0, 0, 0,\n",
      "       0, 1, 0, 0, 1, 1, 1, 0, 0, 1], dtype=uint8)\n"
     ]
    }
   ],
   "execution_count": 42
  },
  {
   "metadata": {
    "ExecuteTime": {
     "end_time": "2025-02-24T18:26:33.719314Z",
     "start_time": "2025-02-24T18:26:33.192343Z"
    }
   },
   "cell_type": "code",
   "source": [
    "def plot_spectrum(path: Path):\n",
    "    fig, ax = plt.subplots()\n",
    "    y, sample_rate = librosa.load(path)\n",
    "    sample_rate *= 2\n",
    "    print(\"Sample rate: \", sample_rate)\n",
    "    S = librosa.feature.melspectrogram(y=y, sr=sample_rate, n_mels=256, fmax=sample_rate / 4)\n",
    "    S_dB = librosa.power_to_db(S, ref=np.max)\n",
    "    img = librosa.display.specshow(S_dB, x_axis='time',\n",
    "                                   y_axis='mel', sr=sample_rate,\n",
    "                                   fmax=sample_rate / 4, ax=ax)\n",
    "    fig.colorbar(img, ax=ax, format='%+2.0f dB')\n",
    "    ax.set(title='Mel-frequency spectrogram')"
   ],
   "id": "221e8059d603aecd",
   "outputs": [
    {
     "name": "stdout",
     "output_type": "stream",
     "text": [
      "Sample rate:  44100\n"
     ]
    },
    {
     "data": {
      "text/plain": [
       "[Text(0.5, 1.0, 'Mel-frequency spectrogram')]"
      ]
     },
     "execution_count": 51,
     "metadata": {},
     "output_type": "execute_result"
    }
   ],
   "execution_count": 51
  }
 ],
 "metadata": {
  "kernelspec": {
   "display_name": "Python 3",
   "language": "python",
   "name": "python3"
  },
  "language_info": {
   "codemirror_mode": {
    "name": "ipython",
    "version": 2
   },
   "file_extension": ".py",
   "mimetype": "text/x-python",
   "name": "python",
   "nbconvert_exporter": "python",
   "pygments_lexer": "ipython2",
   "version": "2.7.6"
  }
 },
 "nbformat": 4,
 "nbformat_minor": 5
}
