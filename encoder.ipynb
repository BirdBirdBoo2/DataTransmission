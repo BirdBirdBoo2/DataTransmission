{
 "cells": [
  {
   "metadata": {},
   "cell_type": "code",
   "outputs": [],
   "execution_count": null,
   "source": [
    "%load_ext autoreload\n",
    "%autoreload 2\n",
    "from pathlib import Path\n",
    "from src import Encoder\n",
    "import matplotlib.pyplot as plt\n",
    "import numpy as np"
   ]
  },
  {
   "metadata": {},
   "cell_type": "code",
   "outputs": [],
   "execution_count": null,
   "source": [
    "with open(\"test.png\", 'rb') as f:\n",
    "    data = f.read()\n",
    "\n",
    "encoder = Encoder()\n",
    "encoder.encode_to_file(data, Path(\"test.wav\"))"
   ]
  },
  {
   "metadata": {},
   "cell_type": "code",
   "outputs": [],
   "execution_count": null,
   "source": [
    "encoder = Encoder(modulation='bpsk') \n",
    "signal = encoder.encode(bytearray(b'hello, world!'))\n",
    "\n",
    "plt.plot(signal[:50])"
   ]
  },
  {
   "metadata": {},
   "cell_type": "code",
   "outputs": [],
   "execution_count": null,
   "source": [
    "d = 0.02\n",
    "x = np.arange(0, 2.58, d)\n",
    "signal = np.sin(np.pi * x)\n",
    "\n",
    "plt.plot(x, signal)"
   ]
  },
  {
   "metadata": {},
   "cell_type": "code",
   "outputs": [],
   "execution_count": null,
   "source": [
    "%matplotlib qt\n",
    "message = bytearray(b'hello, world! My name is `huh?`')\n",
    "# Encoder(modulation='bpsk', ofdm_frequency_hz=2048, carrier_frequency_hz=24000).encode(message)\n",
    "# Encoder(modulation='bpsk', ofdm_frequency_hz=512, carrier_frequency_hz=2048, grace_period_s=0.00, n_subcarriers=64).encode_to_file(message, Path(\"test_new_encode.txt.wav\"))\n",
    "# Encoder(modulation='bpsk', ofdm_frequency_hz=256, carrier_frequency_hz=1536).encode_to_file(image, Path(\"test_new_encode.png.wav\"))\n"
   ]
  },
  {
   "metadata": {},
   "cell_type": "code",
   "outputs": [],
   "execution_count": null,
   "source": ""
  }
 ],
 "metadata": {
  "kernelspec": {
   "display_name": "Python 3",
   "language": "python",
   "name": "python3"
  },
  "language_info": {
   "codemirror_mode": {
    "name": "ipython",
    "version": 3
   },
   "file_extension": ".py",
   "mimetype": "text/x-python",
   "name": "python",
   "nbconvert_exporter": "python",
   "pygments_lexer": "ipython3",
   "version": "3.10.12"
  }
 },
 "nbformat": 4,
 "nbformat_minor": 2
}
