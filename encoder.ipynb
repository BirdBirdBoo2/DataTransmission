{
 "cells": [
  {
   "cell_type": "code",
   "execution_count": 1,
   "metadata": {
    "ExecuteTime": {
     "end_time": "2025-02-20T19:59:35.316255Z",
     "start_time": "2025-02-20T19:59:34.940709Z"
    }
   },
   "outputs": [],
   "source": [
    "%load_ext autoreload\n",
    "%autoreload 2\n",
    "from pathlib import Path\n",
    "from src.encoder import Encoder"
   ]
  },
  {
   "cell_type": "code",
   "execution_count": 2,
   "metadata": {
    "ExecuteTime": {
     "end_time": "2025-02-20T20:00:13.776512Z",
     "start_time": "2025-02-20T20:00:13.565440Z"
    }
   },
   "outputs": [
    {
     "name": "stdout",
     "output_type": "stream",
     "text": [
      "Encoded data into test.wav\n"
     ]
    }
   ],
   "source": [
    "with open(\"test.png\", 'rb') as f:\n",
    "    data = f.read()\n",
    "\n",
    "encoder = Encoder()\n",
    "encoder.encode(data, Path(\"test.wav\"))"
   ]
  },
  {
   "cell_type": "code",
   "execution_count": 7,
   "metadata": {
    "ExecuteTime": {
     "end_time": "2025-02-20T19:39:44.811364Z",
     "start_time": "2025-02-20T19:39:44.724207Z"
    }
   },
   "outputs": [
    {
     "name": "stdout",
     "output_type": "stream",
     "text": [
      " Volume in drive D is Dev\n",
      " Volume Serial Number is 3610-70A2\n",
      "\n",
      " Directory of D:\\Projects\\Python\\DataTransmission\n",
      "\n",
      "20.02.2025  21:39    <DIR>          .\n",
      "20.02.2025  21:09    <DIR>          ..\n",
      "20.02.2025  21:36    <DIR>          .idea\n",
      "20.02.2025  21:36               525 decoder.py\n",
      "20.02.2025  21:39             1ÿ683 encoder.ipynb\n",
      "20.02.2025  21:34             2ÿ665 encoder.py\n",
      "20.02.2025  21:37                68 requirements.txt\n",
      "20.02.2025  21:09           572ÿ280 signal_playground.ipynb\n",
      "20.02.2025  21:38           105ÿ756 test.png\n",
      "20.02.2025  21:39         2ÿ183ÿ404 test.wav\n",
      "20.02.2025  21:23    <DIR>          venv\n",
      "20.02.2025  21:09           172ÿ433 wav_playground.ipynb\n",
      "               8 File(s)      3ÿ038ÿ814 bytes\n",
      "               4 Dir(s)  72ÿ185ÿ229ÿ312 bytes free\n"
     ]
    }
   ],
   "source": []
  }
 ],
 "metadata": {
  "kernelspec": {
   "display_name": "Python 3",
   "language": "python",
   "name": "python3"
  },
  "language_info": {
   "codemirror_mode": {
    "name": "ipython",
    "version": 3
   },
   "file_extension": ".py",
   "mimetype": "text/x-python",
   "name": "python",
   "nbconvert_exporter": "python",
   "pygments_lexer": "ipython3",
   "version": "3.10.12"
  }
 },
 "nbformat": 4,
 "nbformat_minor": 2
}
