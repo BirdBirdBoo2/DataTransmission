{
 "cells": [
  {
   "cell_type": "code",
   "metadata": {
    "ExecuteTime": {
     "end_time": "2025-02-20T19:38:04.943170Z",
     "start_time": "2025-02-20T19:38:04.869224Z"
    }
   },
   "source": [
    "%load_ext autoreload\n",
    "%autoreload 2\n",
    "import numpy as np\n",
    "import matplotlib.pyplot as plt\n",
    "import scipy.io.wavfile as wav\n",
    "import os\n",
    "from pathlib import Path\n",
    "from encoder import Encoder\n",
    "from decoder import Decoder"
   ],
   "outputs": [],
   "execution_count": 3
  },
  {
   "cell_type": "code",
   "metadata": {
    "ExecuteTime": {
     "end_time": "2025-02-20T19:39:02.178662Z",
     "start_time": "2025-02-20T19:39:01.706461Z"
    }
   },
   "source": [
    "encoder = Encoder()\n",
    "encoder.encode(\"test.png\", Path(\"test.wav\"))"
   ],
   "outputs": [
    {
     "name": "stdout",
     "output_type": "stream",
     "text": [
      "Encoded test.png into test.wav\n"
     ]
    }
   ],
   "execution_count": 5
  },
  {
   "cell_type": "code",
   "metadata": {
    "ExecuteTime": {
     "end_time": "2025-02-20T19:39:44.811364Z",
     "start_time": "2025-02-20T19:39:44.724207Z"
    }
   },
   "source": "",
   "outputs": [
    {
     "name": "stdout",
     "output_type": "stream",
     "text": [
      " Volume in drive D is Dev\n",
      " Volume Serial Number is 3610-70A2\n",
      "\n",
      " Directory of D:\\Projects\\Python\\DataTransmission\n",
      "\n",
      "20.02.2025  21:39    <DIR>          .\n",
      "20.02.2025  21:09    <DIR>          ..\n",
      "20.02.2025  21:36    <DIR>          .idea\n",
      "20.02.2025  21:36               525 decoder.py\n",
      "20.02.2025  21:39             1ÿ683 encoder.ipynb\n",
      "20.02.2025  21:34             2ÿ665 encoder.py\n",
      "20.02.2025  21:37                68 requirements.txt\n",
      "20.02.2025  21:09           572ÿ280 signal_playground.ipynb\n",
      "20.02.2025  21:38           105ÿ756 test.png\n",
      "20.02.2025  21:39         2ÿ183ÿ404 test.wav\n",
      "20.02.2025  21:23    <DIR>          venv\n",
      "20.02.2025  21:09           172ÿ433 wav_playground.ipynb\n",
      "               8 File(s)      3ÿ038ÿ814 bytes\n",
      "               4 Dir(s)  72ÿ185ÿ229ÿ312 bytes free\n"
     ]
    }
   ],
   "execution_count": 7
  }
 ],
 "metadata": {
  "kernelspec": {
   "display_name": "Python 3",
   "language": "python",
   "name": "python3"
  },
  "language_info": {
   "codemirror_mode": {
    "name": "ipython",
    "version": 3
   },
   "file_extension": ".py",
   "mimetype": "text/x-python",
   "name": "python",
   "nbconvert_exporter": "python",
   "pygments_lexer": "ipython3",
   "version": "3.10.12"
  }
 },
 "nbformat": 4,
 "nbformat_minor": 2
}
